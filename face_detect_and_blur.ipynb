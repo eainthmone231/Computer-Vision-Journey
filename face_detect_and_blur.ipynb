{
  "cells": [
    {
      "cell_type": "code",
      "execution_count": null,
      "metadata": {
        "colab": {
          "base_uri": "https://localhost:8080/"
        },
        "id": "KhQPpP4lojeX",
        "outputId": "59416ffd-369d-4279-fed8-8eceba8e61e4"
      },
      "outputs": [
        {
          "output_type": "stream",
          "name": "stdout",
          "text": [
            "Looking in indexes: https://pypi.org/simple, https://us-python.pkg.dev/colab-wheels/public/simple/\n",
            "Collecting mediapipe\n",
            "  Downloading mediapipe-0.8.11-cp37-cp37m-manylinux_2_17_x86_64.manylinux2014_x86_64.whl (31.5 MB)\n",
            "\u001b[K     |████████████████████████████████| 31.5 MB 1.2 MB/s \n",
            "\u001b[?25hRequirement already satisfied: numpy in /usr/local/lib/python3.7/dist-packages (from mediapipe) (1.21.6)\n",
            "Requirement already satisfied: attrs>=19.1.0 in /usr/local/lib/python3.7/dist-packages (from mediapipe) (22.1.0)\n",
            "Requirement already satisfied: absl-py in /usr/local/lib/python3.7/dist-packages (from mediapipe) (1.3.0)\n",
            "Requirement already satisfied: opencv-contrib-python in /usr/local/lib/python3.7/dist-packages (from mediapipe) (4.6.0.66)\n",
            "Requirement already satisfied: protobuf<4,>=3.11 in /usr/local/lib/python3.7/dist-packages (from mediapipe) (3.19.6)\n",
            "Requirement already satisfied: matplotlib in /usr/local/lib/python3.7/dist-packages (from mediapipe) (3.2.2)\n",
            "Requirement already satisfied: cycler>=0.10 in /usr/local/lib/python3.7/dist-packages (from matplotlib->mediapipe) (0.11.0)\n",
            "Requirement already satisfied: kiwisolver>=1.0.1 in /usr/local/lib/python3.7/dist-packages (from matplotlib->mediapipe) (1.4.4)\n",
            "Requirement already satisfied: pyparsing!=2.0.4,!=2.1.2,!=2.1.6,>=2.0.1 in /usr/local/lib/python3.7/dist-packages (from matplotlib->mediapipe) (3.0.9)\n",
            "Requirement already satisfied: python-dateutil>=2.1 in /usr/local/lib/python3.7/dist-packages (from matplotlib->mediapipe) (2.8.2)\n",
            "Requirement already satisfied: typing-extensions in /usr/local/lib/python3.7/dist-packages (from kiwisolver>=1.0.1->matplotlib->mediapipe) (4.1.1)\n",
            "Requirement already satisfied: six>=1.5 in /usr/local/lib/python3.7/dist-packages (from python-dateutil>=2.1->matplotlib->mediapipe) (1.15.0)\n",
            "Installing collected packages: mediapipe\n",
            "Successfully installed mediapipe-0.8.11\n",
            "Looking in indexes: https://pypi.org/simple, https://us-python.pkg.dev/colab-wheels/public/simple/\n",
            "Collecting pafy\n",
            "  Downloading pafy-0.5.5-py2.py3-none-any.whl (35 kB)\n",
            "Installing collected packages: pafy\n",
            "Successfully installed pafy-0.5.5\n",
            "Looking in indexes: https://pypi.org/simple, https://us-python.pkg.dev/colab-wheels/public/simple/\n",
            "Collecting youtube-dl==2020.12.2\n",
            "  Downloading youtube_dl-2020.12.2-py2.py3-none-any.whl (1.8 MB)\n",
            "\u001b[K     |████████████████████████████████| 1.8 MB 5.1 MB/s \n",
            "\u001b[?25hInstalling collected packages: youtube-dl\n",
            "Successfully installed youtube-dl-2020.12.2\n"
          ]
        }
      ],
      "source": [
        "!pip install mediapipe\n",
        "!pip install pafy\n",
        "!pip install youtube-dl==2020.12.2"
      ]
    },
    {
      "cell_type": "code",
      "execution_count": null,
      "metadata": {
        "id": "PVxMgYNWSh0r",
        "outputId": "d59fe61d-f6e8-4120-a74d-641b128fdf8e"
      },
      "outputs": [
        {
          "name": "stdout",
          "output_type": "stream",
          "text": [
            "Requirement already satisfied: opencv-contrib-python==4.5.5.62 in c:\\users\\user x\\anaconda3\\envs\\ml\\lib\\site-packages (4.5.5.62)\n",
            "Requirement already satisfied: numpy>=1.17.3 in c:\\users\\user x\\anaconda3\\envs\\ml\\lib\\site-packages (from opencv-contrib-python==4.5.5.62) (1.19.5)\n"
          ]
        }
      ],
      "source": [
        "!pip install opencv-contrib-python==4.5.5.62"
      ]
    },
    {
      "cell_type": "code",
      "execution_count": null,
      "metadata": {
        "id": "aV8O7X0AXXU0"
      },
      "outputs": [],
      "source": [
        "import cv2\n",
        "import numpy as np\n",
        "import mediapipe as mp\n",
        "import matplotlib.pyplot as plt\n",
        "import pafy\n",
        "from mediapipe.python.solutions.drawing_utils import _normalized_to_pixel_coordinates"
      ]
    },
    {
      "cell_type": "code",
      "execution_count": null,
      "metadata": {
        "id": "4yOg6NdvndPI"
      },
      "outputs": [],
      "source": [
        "mp_face_detection = mp.solutions.face_detection\n",
        "face_detection = mp_face_detection.FaceDetection(model_selection=0, min_detection_confidence=0.5)"
      ]
    },
    {
      "cell_type": "code",
      "execution_count": null,
      "metadata": {
        "id": "J0bLZNJ4Sh0u"
      },
      "outputs": [],
      "source": [
        "def blur_image(image, factor=3.0):\n",
        "\t# automatically determine the size of the blurring kernel based\n",
        "\t# on the spatial dimensions of the input image\n",
        "\t(h, w) = image.shape[:2]\n",
        "\tkW = int(w / factor)\n",
        "\tkH = int(h / factor)\n",
        "\t# ensure the width of the kernel is odd\n",
        "\tif kW % 2 == 0:\n",
        "\t\tkW -= 1\n",
        "\t# ensure the height of the kernel is odd\n",
        "\tif kH % 2 == 0:\n",
        "\t\tkH -= 1\n",
        "\t# apply a Gaussian blur to the input image using our computed\n",
        "\t# kernel size\n",
        "\treturn cv2.GaussianBlur(image, (kW, kH), 0)"
      ]
    },
    {
      "cell_type": "code",
      "source": [
        "def Final_Solution(url):\n",
        "  video = pafy.new(url)\n",
        "  best  = video.getbest()\n",
        "  cap = cv2.VideoCapture(best.url)\n",
        "  frame_width = int(cap.get(3))\n",
        "  frame_height = int(cap.get(4))\n",
        "  out = cv2.VideoWriter('output.avi',cv2.VideoWriter_fourcc('M','J','P','G'), 10, (frame_width,frame_height))\n",
        "  while(True):\n",
        "    ret, frame = cap.read()\n",
        "    if ret:\n",
        "      img=frame.copy()\n",
        "      image_rows, image_cols, _ = img.shape\n",
        "      face_detection_results = face_detection.process(img)\n",
        "      detection=face_detection_results.detections\n",
        "      #if face is detected or not\n",
        "      if detection != None:\n",
        "        face_data = detection[0].location_data\n",
        "        relative_bounding_box = face_data.relative_bounding_box\n",
        "        xmin=relative_bounding_box.xmin\n",
        "        ymin=relative_bounding_box.ymin\n",
        "        width=relative_bounding_box.width\n",
        "        height=relative_bounding_box.height\n",
        "        rect_start_point = _normalized_to_pixel_coordinates(xmin,ymin , image_cols, image_rows)\n",
        "        rect_end_point = _normalized_to_pixel_coordinates(xmin + width,ymin + height , image_cols,image_rows)\n",
        "        #cv2.rectangle(img, rect_start_point,rect_end_point, (255, 0, 0), 2)\n",
        "        #handle when the limit of rect end point is over frame size\n",
        "        if rect_end_point==None or rect_start_point==None:\n",
        "          continue\n",
        "        xleft,ytop=rect_start_point\n",
        "        xright,ybot=rect_end_point\n",
        "        crop_img = img[ytop: ybot, xleft: xright]\n",
        "        blur_img=blur_image(crop_img)\n",
        "        img[ytop: ybot, xleft: xright]=blur_img\n",
        "        out.write(img)\n",
        "    \n",
        "      else:\n",
        "        pass\n",
        "    else:\n",
        "      break\n",
        "    \n",
        "    if cv2.waitKey(1) & 0xFF == ord('q'):\n",
        "      break\n",
        "\n",
        "\n",
        "\n",
        "  cap.release()\n",
        "  out.release()\n",
        "  cv2.destroyAllWindows"
      ],
      "metadata": {
        "id": "dEs0ADs1T4M6"
      },
      "execution_count": null,
      "outputs": []
    },
    {
      "cell_type": "code",
      "execution_count": null,
      "metadata": {
        "id": "hU2oZ6Q-oab4"
      },
      "outputs": [],
      "source": [
        "url = \"https://www.youtube.com/watch?v=F9aveOkw0yA\"\n",
        "url = \"https://www.youtube.com/watch?v=1j0X9QMF--M\"\n",
        "Final_Solution(url)\n"
      ]
    },
    {
      "cell_type": "code",
      "execution_count": null,
      "metadata": {
        "id": "Dw7pL8RySh0x"
      },
      "outputs": [],
      "source": []
    }
  ],
  "metadata": {
    "colab": {
      "collapsed_sections": [],
      "provenance": []
    },
    "kernelspec": {
      "display_name": "Python 3.8.12 ('ml')",
      "language": "python",
      "name": "python3"
    },
    "language_info": {
      "codemirror_mode": {
        "name": "ipython",
        "version": 3
      },
      "file_extension": ".py",
      "mimetype": "text/x-python",
      "name": "python",
      "nbconvert_exporter": "python",
      "pygments_lexer": "ipython3",
      "version": "3.8.12"
    },
    "vscode": {
      "interpreter": {
        "hash": "2188580f57c7a2110b4eb23e21623669a84969a64408fa81b6462f0a15ec6330"
      }
    }
  },
  "nbformat": 4,
  "nbformat_minor": 0
}